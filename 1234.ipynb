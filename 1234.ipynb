{
 "cells": [
  {
   "cell_type": "markdown",
   "metadata": {},
   "source": [
    "# Лабораторная работа №1: Знакомоство с Python"
   ]
  },
  {
   "cell_type": "markdown",
   "metadata": {},
   "source": [
    "## Элементарные типы данных"
   ]
  },
  {
   "cell_type": "markdown",
   "metadata": {},
   "source": [
    "### 1. Числовые типы: int и float"
   ]
  },
  {
   "cell_type": "markdown",
   "metadata": {},
   "source": [
    "Пример создания переменных целочисленного и вещественного (с плавающей точкой) типа:"
   ]
  },
  {
   "cell_type": "code",
   "execution_count": 7,
   "metadata": {},
   "outputs": [],
   "source": [
    "x = 5\n",
    "y = 5.7\n",
    "\n",
    "# Это комментарий"
   ]
  },
  {
   "cell_type": "markdown",
   "metadata": {},
   "source": [
    "Для вывода значения на экран в языке Python используется встроенная функия print:"
   ]
  },
  {
   "cell_type": "code",
   "execution_count": 12,
   "metadata": {},
   "outputs": [
    {
     "name": "stdout",
     "output_type": "stream",
     "text": [
      "5 5.7\n"
     ]
    }
   ],
   "source": [
    "print(x, y)"
   ]
  },
  {
   "cell_type": "markdown",
   "metadata": {},
   "source": [
    "Узнать тип, к которому принадлежит пременная можно с помощью функции type:"
   ]
  },
  {
   "cell_type": "code",
   "execution_count": 11,
   "metadata": {},
   "outputs": [
    {
     "name": "stdout",
     "output_type": "stream",
     "text": [
      "<class 'int'> <class 'float'>\n"
     ]
    }
   ],
   "source": [
    "print(type(x), type(y))"
   ]
  },
  {
   "cell_type": "markdown",
   "metadata": {},
   "source": [
    "С данными принадлежащим к числовым типам можно производить стандартные математические операции:"
   ]
  },
  {
   "cell_type": "code",
   "execution_count": 13,
   "metadata": {},
   "outputs": [
    {
     "name": "stdout",
     "output_type": "stream",
     "text": [
      "9.3 21.419999999999998 0.8771929824561403\n"
     ]
    }
   ],
   "source": [
    "a = 4.2 + 5.1\n",
    "b = 4.2 * 5.1\n",
    "c = 5.0 / y\n",
    "\n",
    "print(a, b, c)"
   ]
  },
  {
   "cell_type": "markdown",
   "metadata": {},
   "source": [
    "**Задача 1**: В ячейке ниже напишите программу, которая задаёт длины двух катетов $b$ и $h$ в прямоугольном треугольнике и выводит его площадь:\n",
    "$$S = \\frac{1}{2}bh$$"
   ]
  },
  {
   "cell_type": "code",
   "execution_count": 15,
   "metadata": {},
   "outputs": [
    {
     "name": "stdout",
     "output_type": "stream",
     "text": [
      "4.0\n"
     ]
    }
   ],
   "source": [
    "b = 4\n",
    "h = 2\n",
    "S = 0.5 * b * h\n",
    "print(S)"
   ]
  },
  {
   "cell_type": "markdown",
   "metadata": {},
   "source": [
    "### 2. Логический тип bool"
   ]
  },
  {
   "cell_type": "markdown",
   "metadata": {},
   "source": [
    "Переменная логического типа может иметь только два значения - `True` (истина) или `False` (ложь):"
   ]
  },
  {
   "cell_type": "code",
   "execution_count": 16,
   "metadata": {},
   "outputs": [
    {
     "name": "stdout",
     "output_type": "stream",
     "text": [
      "True\n",
      "<class 'bool'>\n",
      "False\n",
      "<class 'bool'>\n"
     ]
    }
   ],
   "source": [
    "a = True\n",
    "b = False\n",
    "\n",
    "print(a)\n",
    "print(type(a))\n",
    "\n",
    "print(b)\n",
    "print(type(b))"
   ]
  },
  {
   "cell_type": "markdown",
   "metadata": {},
   "source": [
    "К данным логического типа можно применять три базовые операции:\n",
    "1. Отрицание - `not`, меняет значение операнда на противоположное;\n",
    "2. Логическое \"или\" (конъюнкция) - `or`;\n",
    "3. Логическое \"и\" (дизъюнкция) - `and`."
   ]
  },
  {
   "cell_type": "code",
   "execution_count": 17,
   "metadata": {},
   "outputs": [
    {
     "name": "stdout",
     "output_type": "stream",
     "text": [
      "False\n",
      "True\n",
      "True\n"
     ]
    }
   ],
   "source": [
    "print(a and False)\n",
    "print(True and True)\n",
    "print(not b or False)"
   ]
  },
  {
   "cell_type": "markdown",
   "metadata": {},
   "source": [
    "Логические значения чаще всего возникают в качестве результата выполненя операций сравнения с целочисленными данными:\n",
    "\n",
    "1. `<`  - Меньше — условие верно, если первый операнд меньше второго.\n",
    "2. `>`  - Больше — условие верно, если первый операнд больше второго.\n",
    "3. `<=` - Меньше или равно.\n",
    "4. `>=` - Больше или равно.\n",
    "5. `==` - Равенство. Условие верно, если два операнда равны.\n",
    "6. `!=` - Неравенство. Условие верно, если два операнда неравны. "
   ]
  },
  {
   "cell_type": "code",
   "execution_count": 8,
   "metadata": {},
   "outputs": [
    {
     "name": "stdout",
     "output_type": "stream",
     "text": [
      "True\n"
     ]
    }
   ],
   "source": [
    "print((x < y) or (5 > y))"
   ]
  },
  {
   "cell_type": "markdown",
   "metadata": {},
   "source": [
    "**Задача 2**: Привидете два собственных примеров логических выражений с использованием операций сравнения над целочисленными данными, одно из которых будет `True`, а другое - `False`."
   ]
  },
  {
   "cell_type": "code",
   "execution_count": 20,
   "metadata": {},
   "outputs": [
    {
     "name": "stdout",
     "output_type": "stream",
     "text": [
      "true\n"
     ]
    }
   ],
   "source": [
    "a = 1\n",
    "if (a == 1):\n",
    "    print (\"true\")\n",
    "if (a != 1):\n",
    "    print (\"false\")"
   ]
  },
  {
   "cell_type": "markdown",
   "metadata": {},
   "source": [
    "### 3. Строковый тип"
   ]
  },
  {
   "cell_type": "markdown",
   "metadata": {},
   "source": [
    "Символы и строки в Python представлены одним строковым типом данных, который можно записывать двумя способами:"
   ]
  },
  {
   "cell_type": "code",
   "execution_count": 25,
   "metadata": {},
   "outputs": [
    {
     "name": "stdout",
     "output_type": "stream",
     "text": [
      "abc\n",
      "<class 'str'>\n",
      "True\n"
     ]
    }
   ],
   "source": [
    "x = \"abc\"\n",
    "y = 'abc'\n",
    "\n",
    "print(x)\n",
    "print(type(x))\n",
    "print(x == y)"
   ]
  },
  {
   "cell_type": "markdown",
   "metadata": {},
   "source": [
    "Строковые данные можно складывать (конкатенировать):"
   ]
  },
  {
   "cell_type": "code",
   "execution_count": 26,
   "metadata": {},
   "outputs": [
    {
     "name": "stdout",
     "output_type": "stream",
     "text": [
      "abc abc\n"
     ]
    }
   ],
   "source": [
    "s = x + \" \" + y\n",
    "print(s)"
   ]
  },
  {
   "cell_type": "markdown",
   "metadata": {},
   "source": [
    "Длину строки можно узнать с помощью фукнции `len`:"
   ]
  },
  {
   "cell_type": "code",
   "execution_count": 27,
   "metadata": {},
   "outputs": [
    {
     "name": "stdout",
     "output_type": "stream",
     "text": [
      "7\n"
     ]
    }
   ],
   "source": [
    "print(len(s))"
   ]
  },
  {
   "cell_type": "markdown",
   "metadata": {},
   "source": [
    "В строки также могут быть записаны данные из других алфавитов (поддержка utf-8), например, русского:"
   ]
  },
  {
   "cell_type": "code",
   "execution_count": 28,
   "metadata": {
    "scrolled": true
   },
   "outputs": [
    {
     "name": "stdout",
     "output_type": "stream",
     "text": [
      "Федор Михайлович Достоевский <class 'str'>\n"
     ]
    }
   ],
   "source": [
    "x = 'Федор Михайлович Достоевский'\n",
    "print(x, type(x))"
   ]
  },
  {
   "cell_type": "markdown",
   "metadata": {},
   "source": [
    "Целочисленные данные можно конвертировать в строковые с использование функции `str`:"
   ]
  },
  {
   "cell_type": "code",
   "execution_count": 29,
   "metadata": {},
   "outputs": [
    {
     "name": "stdout",
     "output_type": "stream",
     "text": [
      "Число пи: 3.1415926535\n"
     ]
    }
   ],
   "source": [
    "pi = 3.1415926535\n",
    "print('Число пи: ' + str(pi))"
   ]
  },
  {
   "cell_type": "markdown",
   "metadata": {},
   "source": [
    "**Задача 3**: Создайте переменную строкового типа `y`, в которой будет хранится ваше ФИО и номер групп, который изначально должен быть задан числовой переменной."
   ]
  },
  {
   "cell_type": "code",
   "execution_count": 33,
   "metadata": {},
   "outputs": [
    {
     "name": "stdout",
     "output_type": "stream",
     "text": [
      "Артамонов Артем Сергеевич СурковГлебАлександрович\n"
     ]
    }
   ],
   "source": [
    "y = 1\n",
    "x = 2\n",
    "y = \"Артамонов\" \" Артем\" \" Сергеевич\"\n",
    "x = \"Сурков\" \"Глеб\" \"Александрович\"\n",
    "print (y, x)"
   ]
  },
  {
   "cell_type": "markdown",
   "metadata": {},
   "source": [
    "### 4. Списки (массивы)"
   ]
  },
  {
   "cell_type": "markdown",
   "metadata": {},
   "source": [
    "Последовательный набор данных (вообще говоря разнотипных) можно хранить в списке:"
   ]
  },
  {
   "cell_type": "code",
   "execution_count": 34,
   "metadata": {},
   "outputs": [
    {
     "name": "stdout",
     "output_type": "stream",
     "text": [
      "['Ivan Ivanovich', 'Medium', 500000, 12, True]\n",
      "<class 'list'>\n"
     ]
    }
   ],
   "source": [
    "features = ['Ivan Ivanovich', 'Medium', 500000, 12, True]\n",
    "print(features)\n",
    "print(type(features))"
   ]
  },
  {
   "cell_type": "markdown",
   "metadata": {},
   "source": [
    "К элементам списка можно обращаться по индексу (индексация с 0):"
   ]
  },
  {
   "cell_type": "code",
   "execution_count": 35,
   "metadata": {},
   "outputs": [
    {
     "name": "stdout",
     "output_type": "stream",
     "text": [
      "Ivan Ivanovich\n",
      "Medium\n",
      "12\n"
     ]
    }
   ],
   "source": [
    "print(features[0])\n",
    "print(features[1])\n",
    "print(features[3])"
   ]
  },
  {
   "cell_type": "markdown",
   "metadata": {},
   "source": [
    "Более того из списка можно создавать другие списки, которые являются \"срезами\" заданного списка от некоторого начального индекса (если указан) до конечного (если указан): "
   ]
  },
  {
   "cell_type": "code",
   "execution_count": 36,
   "metadata": {},
   "outputs": [
    {
     "name": "stdout",
     "output_type": "stream",
     "text": [
      "['Medium', 500000, 12, True]\n",
      "[500000, 12]\n",
      "['Ivan Ivanovich', 'Medium', 500000]\n"
     ]
    }
   ],
   "source": [
    "print(features[1:])\n",
    "print(features[2:4])\n",
    "print(features[:3])"
   ]
  },
  {
   "cell_type": "markdown",
   "metadata": {},
   "source": [
    "Для индексации элементов с конца списка можно использовать отрицательный индекс. Последний элемент списка имеет в таком случае индекс - `-1`."
   ]
  },
  {
   "cell_type": "code",
   "execution_count": 37,
   "metadata": {},
   "outputs": [
    {
     "name": "stdout",
     "output_type": "stream",
     "text": [
      "True\n",
      "['Ivan Ivanovich', 'Medium', 500000, 12]\n"
     ]
    }
   ],
   "source": [
    "print(features[-1])\n",
    "print(features[:-1])"
   ]
  },
  {
   "cell_type": "markdown",
   "metadata": {},
   "source": [
    "К списку можно добавлять элементы двумя способами:\n",
    "1. Использование *метода* `append`;\n",
    "2. Конкатенации с другим списком."
   ]
  },
  {
   "cell_type": "code",
   "execution_count": 38,
   "metadata": {},
   "outputs": [
    {
     "name": "stdout",
     "output_type": "stream",
     "text": [
      "['Ivan Ivanovich', 'Medium', 500000, 12, True, 'One more element in list']\n",
      "['Ivan Ivanovich', 'Medium', 500000, 12, True, 'One more element in list', 'Even one more element in list']\n"
     ]
    }
   ],
   "source": [
    "features.append('One more element in list')\n",
    "print(features)\n",
    "print(features + ['Even one more element in list'])"
   ]
  },
  {
   "cell_type": "markdown",
   "metadata": {},
   "source": [
    "**Задача 4**: Создайте два списка длины 5 с произвольными неповторяющимися числовыми значениями."
   ]
  },
  {
   "cell_type": "code",
   "execution_count": 40,
   "metadata": {},
   "outputs": [
    {
     "name": "stdout",
     "output_type": "stream",
     "text": [
      "[1, 3, 5, 7, 9] [2, 12, 89, 37, 64]\n"
     ]
    }
   ],
   "source": [
    "features = [1, 3, 5, 7, 9]\n",
    "features1 = [2,12,89,37,64]\n",
    "print (features, features1)"
   ]
  },
  {
   "cell_type": "markdown",
   "metadata": {},
   "source": [
    "Списки могут быть вложенными (многомерные массивы):"
   ]
  },
  {
   "cell_type": "code",
   "execution_count": 22,
   "metadata": {},
   "outputs": [
    {
     "name": "stdout",
     "output_type": "stream",
     "text": [
      "7\n"
     ]
    }
   ],
   "source": [
    "A = [[2, 4], [3, 5]]\n",
    "\n",
    "print(A[0][0] + A[-1][-1])"
   ]
  },
  {
   "cell_type": "markdown",
   "metadata": {},
   "source": [
    "## Оператор условного перехода"
   ]
  },
  {
   "cell_type": "markdown",
   "metadata": {},
   "source": [
    "Как и во всех высокоуровневых языках программирования в Python есть поддержка ветвления процесса исполнения программы с помощью конструкции: \n",
    "`if <логическое_выражение> : <исполняемый_код_True> else: <исполняемый_код_False>` "
   ]
  },
  {
   "cell_type": "code",
   "execution_count": 41,
   "metadata": {},
   "outputs": [
    {
     "name": "stdout",
     "output_type": "stream",
     "text": [
      "10\n"
     ]
    }
   ],
   "source": [
    "x = -10\n",
    "if x > 0:\n",
    "    print(x)\n",
    "else:\n",
    "    print(-x)"
   ]
  },
  {
   "cell_type": "markdown",
   "metadata": {},
   "source": [
    "Так же если важно изменить поведение программы только при истинном значении выражения можно воспользоваться конструкцией:"
   ]
  },
  {
   "cell_type": "code",
   "execution_count": 42,
   "metadata": {},
   "outputs": [
    {
     "name": "stdout",
     "output_type": "stream",
     "text": [
      "10\n"
     ]
    }
   ],
   "source": [
    "if x < 0:\n",
    "    x = -x\n",
    "print(x)"
   ]
  },
  {
   "cell_type": "markdown",
   "metadata": {},
   "source": [
    "Операторы условного перехода могут иметь вложенную структуру:"
   ]
  },
  {
   "cell_type": "code",
   "execution_count": 43,
   "metadata": {},
   "outputs": [
    {
     "name": "stdout",
     "output_type": "stream",
     "text": [
      "Четвертая четверть\n"
     ]
    }
   ],
   "source": [
    "x = 5\n",
    "y = -1\n",
    "\n",
    "if x > 0:\n",
    "    if y > 0:\n",
    "        print(\"Первая четверть\")\n",
    "    else:\n",
    "        print(\"Четвертая четверть\")\n",
    "else:\n",
    "    if y > 0:\n",
    "        print(\"Вторая четверть\")\n",
    "    else:\n",
    "        print(\"Третья четверть\")"
   ]
  },
  {
   "cell_type": "markdown",
   "metadata": {},
   "source": [
    "Что так же можно выразить следующим кодом:"
   ]
  },
  {
   "cell_type": "code",
   "execution_count": 44,
   "metadata": {},
   "outputs": [
    {
     "name": "stdout",
     "output_type": "stream",
     "text": [
      "Четвертая четверть\n"
     ]
    }
   ],
   "source": [
    "if x > 0 and y > 0:\n",
    "    print(\"Первая четверть\")\n",
    "elif x > 0 and y < 0:\n",
    "    print(\"Четвертая четверть\")\n",
    "elif y > 0:\n",
    "    print(\"Вторая четверть\")\n",
    "else:\n",
    "    print(\"Третья четверть\")"
   ]
  },
  {
   "cell_type": "markdown",
   "metadata": {},
   "source": [
    "**Задача 5**: Задайте натуральное число. Требуется определить, является ли год с данным номером високосным. Если год является високосным, то выведите Yes, иначе выведите No. Напомним, что в соответствии с григорианским календарем, год является високосным, если его номер кратен 4, но не кратен 100, а также если он кратен 400. \n",
    "\n",
    "*Замечание*: Кратность числа `x` числу `y` можно проверить с помощью выражения `x % y == 0`, где `%` - операция взятия остатка от деления числа `x` на `y`."
   ]
  },
  {
   "cell_type": "code",
   "execution_count": 54,
   "metadata": {},
   "outputs": [
    {
     "name": "stdout",
     "output_type": "stream",
     "text": [
      "Yes\n"
     ]
    }
   ],
   "source": [
    "a = 2016\n",
    "if (a % 4 == 0 and a % 100 != 0 or a % 400 == 0):\n",
    "    print (\"Yes\")\n",
    "else:\n",
    "    print (\"No\")\n",
    "        \n",
    "    "
   ]
  },
  {
   "cell_type": "markdown",
   "metadata": {},
   "source": [
    "**Задача 6**: Задайте три целых числа. Выведите значение наименьшего из них. "
   ]
  },
  {
   "cell_type": "code",
   "execution_count": 57,
   "metadata": {},
   "outputs": [
    {
     "name": "stdout",
     "output_type": "stream",
     "text": [
      "4\n"
     ]
    }
   ],
   "source": [
    "a = 4\n",
    "b = 10\n",
    "c = 19\n",
    "if (a < b and a < c):\n",
    "    print (a)\n",
    "elif (b < a and b < c):\n",
    "    print (b)\n",
    "elif (c < a and c < b):\n",
    "    print (c)"
   ]
  },
  {
   "cell_type": "markdown",
   "metadata": {},
   "source": [
    "**Задача 7**: Шахматный конь ходит буквой “Г” — на две клетки по вертикали в любом направлении и на одну клетку по горизонтали, или наоборот. Задайте две различные клетки шахматной доски с помощью двух списков из двух элементов и определите, может ли конь попасть с первой клетки на вторую одним ходом."
   ]
  },
  {
   "cell_type": "code",
   "execution_count": 65,
   "metadata": {},
   "outputs": [
    {
     "name": "stdout",
     "output_type": "stream",
     "text": [
      "Yes\n"
     ]
    }
   ],
   "source": [
    "a = [1, 1]\n",
    "b = [3, 2]\n",
    "if (a[1] == (b[1]+1) or a[1] == (b[1]-1)):\n",
    "    if (a[0] == (b[0]+2) or a[0] == (b[0]-2)):\n",
    "        print (\"Yes\")\n",
    "    else:\n",
    "        print (\"No\")\n",
    "else:\n",
    "    print (\"No\")"
   ]
  },
  {
   "cell_type": "markdown",
   "metadata": {},
   "source": [
    "## Циклы"
   ]
  },
  {
   "cell_type": "markdown",
   "metadata": {},
   "source": [
    "### 1. Цикл while"
   ]
  },
  {
   "cell_type": "markdown",
   "metadata": {},
   "source": [
    "Цикл `while` (“пока”) позволяет выполнить одну и ту же последовательность действий, пока проверяемое условие истинно. Условие записывается до тела цикла и проверяется до выполнения тела цикла."
   ]
  },
  {
   "cell_type": "code",
   "execution_count": 66,
   "metadata": {},
   "outputs": [
    {
     "name": "stdout",
     "output_type": "stream",
     "text": [
      "1\n",
      "4\n",
      "9\n",
      "16\n",
      "25\n",
      "36\n",
      "49\n",
      "64\n",
      "81\n",
      "100\n"
     ]
    }
   ],
   "source": [
    "i = 1\n",
    "while i <= 10:\n",
    "    print(i ** 2)\n",
    "    i += 1"
   ]
  },
  {
   "cell_type": "markdown",
   "metadata": {},
   "source": [
    "**Задача 8**: Посчитайте сумму элементов заданного списка с помощью цикла `while`."
   ]
  },
  {
   "cell_type": "code",
   "execution_count": 71,
   "metadata": {},
   "outputs": [
    {
     "name": "stdout",
     "output_type": "stream",
     "text": [
      "55\n"
     ]
    }
   ],
   "source": [
    "a = [1, 2, 3, 4, 5, 6, 7, 8, 9, 10]\n",
    "summ = 0\n",
    "i = 0\n",
    "while i < len(a):\n",
    "    summ = summ + a[i]\n",
    "    i = i + 1\n",
    "print (summ)\n"
   ]
  },
  {
   "cell_type": "markdown",
   "metadata": {},
   "source": [
    "### 2. Цикл for"
   ]
  },
  {
   "cell_type": "markdown",
   "metadata": {},
   "source": [
    "Цикл `for`, также называемый циклом с параметром, в языке Python богат возможностями. В цикле `for` указывается переменная и множество значений, по которому будет пробегать переменная. "
   ]
  },
  {
   "cell_type": "code",
   "execution_count": 72,
   "metadata": {},
   "outputs": [
    {
     "name": "stdout",
     "output_type": "stream",
     "text": [
      "8\n",
      "9\n",
      "10\n"
     ]
    }
   ],
   "source": [
    "for x in [5, 8, 9, 10]:\n",
    "    if x > 5:\n",
    "        print(x)"
   ]
  },
  {
   "cell_type": "markdown",
   "metadata": {},
   "source": [
    "Как правило, циклы `for` используются либо для повторения какой-либо последовательности действий заданное число раз, либо для изменения значения переменной в цикле от некоторого начального значения до некоторого конечного.\n",
    "\n",
    "Для повторения цикла некоторое заданное число раз n можно использовать цикл `for` вместе с функцией `range`."
   ]
  },
  {
   "cell_type": "code",
   "execution_count": 73,
   "metadata": {},
   "outputs": [
    {
     "name": "stdout",
     "output_type": "stream",
     "text": [
      "6\n",
      "7\n",
      "8\n",
      "9\n",
      "10\n"
     ]
    }
   ],
   "source": [
    "for i in range(len(a)):\n",
    "    if a[i] > 5:\n",
    "        print(a[i])"
   ]
  },
  {
   "cell_type": "markdown",
   "metadata": {},
   "source": [
    "**Задача 9**: Посчитайте сумму и произведение элементов заданного списка с помощью цикла `for` и функции `range`."
   ]
  },
  {
   "cell_type": "code",
   "execution_count": 78,
   "metadata": {},
   "outputs": [
    {
     "name": "stdout",
     "output_type": "stream",
     "text": [
      "1275\n"
     ]
    }
   ],
   "source": [
    "b = list(range(1, 51)) # Приведение к типу list\n",
    "i = 0\n",
    "summ = 0\n",
    "for i in range (len(b)):\n",
    "    summ += b[i]\n",
    "print (summ)"
   ]
  },
  {
   "cell_type": "markdown",
   "metadata": {},
   "source": [
    "**Задача 10**: Посчитайте среднее значение $m$ и дисперсию $d$ случайной последовательности $r$ длины $N$:\n",
    "$$m = \\frac{1}{N}\\sum_{n = 0}^{N - 1}r[n]$$\n",
    "$$d = \\frac{1}{N}\\sum_{n = 0}^{N - 1}(r[n] - m)^2$$"
   ]
  },
  {
   "cell_type": "code",
   "execution_count": 89,
   "metadata": {},
   "outputs": [
    {
     "name": "stdout",
     "output_type": "stream",
     "text": [
      "15.978331153023323 -10.004386393197104\n"
     ]
    }
   ],
   "source": [
    "g = 4\n",
    "b = -10\n",
    "i = 0\n",
    "j = 0\n",
    "averege = 0\n",
    "disp = 0\n",
    "summ = 0\n",
    "# Модули мы будет проходить на следующем занятии\n",
    "# пока что воспринимайте это как функции для генерации случайного набора чисел из\n",
    "# нормального распределения\n",
    "import numpy as np\n",
    "r = list(g * np.random.randn(100000) - 10)\n",
    "for i in range(len(r)):\n",
    "    summ += r[i]\n",
    "averege = summ / len(r)\n",
    "summ = 0\n",
    "for j in range(len(r)):\n",
    "    summ += (r[j] - averege) * (r[j] - averege)\n",
    "disp = summ / len(r)\n",
    "print(disp, averege)"
   ]
  },
  {
   "cell_type": "markdown",
   "metadata": {},
   "source": [
    "Циклы можно вкладывать один в другой:"
   ]
  },
  {
   "cell_type": "code",
   "execution_count": 36,
   "metadata": {},
   "outputs": [
    {
     "name": "stdout",
     "output_type": "stream",
     "text": [
      "7 10\n",
      "8 9\n",
      "8 10\n",
      "9 8\n",
      "9 9\n",
      "9 10\n",
      "10 7\n",
      "10 8\n",
      "10 9\n",
      "10 10\n"
     ]
    }
   ],
   "source": [
    "for i in range(len(a)):\n",
    "    for j in range(len(a)):\n",
    "        if (a[i] + a[j]) > 16:\n",
    "            print(a[i], a[j])"
   ]
  },
  {
   "cell_type": "markdown",
   "metadata": {},
   "source": [
    "**Задача 11**: Реализуйте алгоритм КИХ-фильтра для входного сигнала $x[n]$ длины $N$ и импульсной характеристики $h[n]$ длины $M$:\n",
    "$$y[n] = \\sum_{m = 0}^{M - 1}h[m]x[n - m]$$\n",
    "\n",
    "*Замечание*: Сигналы выражаются списками.\n",
    "\n",
    "*Замечание*: Для того чтобы длина выходной последовательности $y[n]$ была равна $N$ необходимо дополнить $x[n]$ $M - 1$ нулями в начало."
   ]
  },
  {
   "cell_type": "code",
   "execution_count": 92,
   "metadata": {},
   "outputs": [
    {
     "ename": "IndexError",
     "evalue": "list assignment index out of range",
     "output_type": "error",
     "traceback": [
      "\u001b[1;31m---------------------------------------------------------------------------\u001b[0m",
      "\u001b[1;31mIndexError\u001b[0m                                Traceback (most recent call last)",
      "\u001b[1;32m<ipython-input-92-8883f17c7342>\u001b[0m in \u001b[0;36m<module>\u001b[1;34m\u001b[0m\n\u001b[0;32m      9\u001b[0m \u001b[1;32mfor\u001b[0m \u001b[0mi\u001b[0m \u001b[1;32min\u001b[0m \u001b[0mrange\u001b[0m\u001b[1;33m(\u001b[0m\u001b[0mlen\u001b[0m\u001b[1;33m(\u001b[0m\u001b[0mx\u001b[0m\u001b[1;33m)\u001b[0m\u001b[1;33m)\u001b[0m\u001b[1;33m:\u001b[0m\u001b[1;33m\u001b[0m\u001b[1;33m\u001b[0m\u001b[0m\n\u001b[0;32m     10\u001b[0m     \u001b[1;32mfor\u001b[0m \u001b[0mj\u001b[0m \u001b[1;32min\u001b[0m \u001b[0mrange\u001b[0m\u001b[1;33m(\u001b[0m\u001b[0mlen\u001b[0m\u001b[1;33m(\u001b[0m\u001b[0mh\u001b[0m\u001b[1;33m)\u001b[0m\u001b[1;33m)\u001b[0m\u001b[1;33m:\u001b[0m\u001b[1;33m\u001b[0m\u001b[1;33m\u001b[0m\u001b[0m\n\u001b[1;32m---> 11\u001b[1;33m         \u001b[0msumm\u001b[0m\u001b[1;33m[\u001b[0m\u001b[0mi\u001b[0m\u001b[1;33m]\u001b[0m \u001b[1;33m=\u001b[0m \u001b[0mh\u001b[0m\u001b[1;33m[\u001b[0m\u001b[0mj\u001b[0m\u001b[1;33m]\u001b[0m \u001b[1;33m*\u001b[0m \u001b[0mx\u001b[0m\u001b[1;33m[\u001b[0m\u001b[0mi\u001b[0m \u001b[1;33m-\u001b[0m \u001b[0mj\u001b[0m\u001b[1;33m]\u001b[0m\u001b[1;33m\u001b[0m\u001b[1;33m\u001b[0m\u001b[0m\n\u001b[0m\u001b[0;32m     12\u001b[0m \u001b[0mprint\u001b[0m \u001b[1;33m(\u001b[0m\u001b[0msumm\u001b[0m\u001b[1;33m)\u001b[0m\u001b[1;33m\u001b[0m\u001b[1;33m\u001b[0m\u001b[0m\n",
      "\u001b[1;31mIndexError\u001b[0m: list assignment index out of range"
     ]
    }
   ],
   "source": [
    "x = [0.0, 6.1421, 9.6940, 9.1577, 4.7594, -1.6459, -7.3572, -9.9658,\n",
    "    -8.3716, -3.2469, 3.2469, 8.3716, 9.9658, 7.3572, 1.6459, -4.7594,\n",
    "    -9.1577, -9.6940, -6.1421, 0.0]\n",
    "h = [1, -1]\n",
    "\n",
    "i = 0\n",
    "j = 0\n",
    "summ = [0, 0, 0, 0, 0, 0, 0, 0, 0, 0, 0, 0, 0, 0 ,0]\n",
    "for i in range(len(x)):\n",
    "    for j in range(len(h)):\n",
    "        summ[i] = h[j] * x[i - j]\n",
    "print (summ)"
   ]
  },
  {
   "cell_type": "markdown",
   "metadata": {},
   "source": [
    "Чтобы отобразить графически результат исполните следующую ячейку."
   ]
  },
  {
   "cell_type": "code",
   "execution_count": 38,
   "metadata": {},
   "outputs": [
    {
     "data": {
      "image/png": "[encoded data removed]",
      "text/plain": [
       "<Figure size 432x288 with 1 Axes>"
      ]
     },
     "metadata": {
      "needs_background": "light"
     },
     "output_type": "display_data"
    }
   ],
   "source": [
    "import matplotlib.pyplot as plt # Вывод графиков будет обсуждаться далее\n",
    "\n",
    "plt.plot(x)\n",
    "plt.plot(y)\n",
    "plt.show()"
   ]
  },
  {
   "cell_type": "markdown",
   "metadata": {},
   "source": [
    "## Вопросы по лабораторной работе:\n",
    "\n",
    "1. Назовите элементарные типы данных в языке Python.\n",
    "2. Какие операции с логическими данными существуют? Привидите пример их использования.\n",
    "3. Как можно добавить в конце некоторой строки `s` строку `' ЦОС'`?\n",
    "4. Привидите пример использования оператора ветвления.\n",
    "5. Какие типы циклов существуют в Python? Почему их несколько?\n",
    "6. Привидите код программы на языке Python, которая производит поиск наименьшенго элемента в списке.\n",
    "7. Привидите код программы на языке Python, которая производит поиск наибольшоего элемента в списке.\n",
    "8. Привидите код программы на языке Python, которая считает длину списка, с учётом того, что последний элемент в нём равен 0.\n",
    "\n",
    "..."
   ]
  }
 ],
 "metadata": {
  "anaconda-cloud": {},
  "kernelspec": {
   "display_name": "Python 3",
   "language": "python",
   "name": "python3"
  },
  "language_info": {
   "codemirror_mode": {
    "name": "ipython",
    "version": 3
   },
   "file_extension": ".py",
   "mimetype": "text/x-python",
   "name": "python",
   "nbconvert_exporter": "python",
   "pygments_lexer": "ipython3",
   "version": "3.8.8"
  }
 },
 "nbformat": 4,
 "nbformat_minor": 1
}
